{
 "cells": [
  {
   "cell_type": "code",
   "execution_count": 0,
   "metadata": {
    "application/vnd.databricks.v1+cell": {
     "cellMetadata": {
      "byteLimit": 2048000,
      "rowLimit": 10000
     },
     "inputWidgets": {},
     "nuid": "5c5f6424-b9fa-412a-8514-61fed3294b7e",
     "showTitle": false,
     "tableResultSettingsMap": {},
     "title": ""
    }
   },
   "outputs": [],
   "source": [
    "# %pip install -U -qqqq unitycatalog-ai[databricks] mlflow-skinny[databricks] langgraph==0.3.4 databricks-langchain databricks-agents python-dotenv uv\n",
    "# %restart_python"
   ]
  },
  {
   "cell_type": "markdown",
   "metadata": {
    "application/vnd.databricks.v1+cell": {
     "cellMetadata": {
      "byteLimit": 2048000,
      "rowLimit": 10000
     },
     "inputWidgets": {},
     "nuid": "b697b17c-23d3-49ac-a94d-5cef870b6ff1",
     "showTitle": false,
     "tableResultSettingsMap": {},
     "title": ""
    }
   },
   "source": [
    "# Setup\n"
   ]
  },
  {
   "cell_type": "code",
   "execution_count": 0,
   "metadata": {
    "application/vnd.databricks.v1+cell": {
     "cellMetadata": {
      "byteLimit": 2048000,
      "rowLimit": 10000
     },
     "inputWidgets": {},
     "nuid": "dbb07eeb-7f6b-4b09-b4f3-6d93b8027b31",
     "showTitle": false,
     "tableResultSettingsMap": {},
     "title": ""
    }
   },
   "outputs": [],
   "source": [
    "dbutils.widgets.removeAll()"
   ]
  },
  {
   "cell_type": "code",
   "execution_count": 0,
   "metadata": {
    "application/vnd.databricks.v1+cell": {
     "cellMetadata": {
      "byteLimit": 2048000,
      "rowLimit": 10000
     },
     "inputWidgets": {},
     "nuid": "57d2b5eb-099c-46dd-a674-9969182bfd0f",
     "showTitle": false,
     "tableResultSettingsMap": {},
     "title": ""
    }
   },
   "outputs": [],
   "source": [
    "# Create widgets in order to bind environment variables to the SQL session variables so they can be used in %sql cells\n",
    "dbutils.widgets.text(\"TARGET_CATALOG\", \"workshop\")\n",
    "dbutils.widgets.text(\"TARGET_SCHEMA\", \"invoices\")\n",
    "\n",
    "TARGET_CATALOG = dbutils.widgets.get(\"TARGET_CATALOG\")\n",
    "TARGET_SCHEMA = dbutils.widgets.get(\"TARGET_SCHEMA\")\n",
    "\n",
    "\n",
    "print(f\"TARGET_CATALOG: {TARGET_CATALOG}\")\n",
    "print(f\"TARGET_SCHEMA: {TARGET_SCHEMA}\")"
   ]
  },
  {
   "cell_type": "code",
   "execution_count": 0,
   "metadata": {
    "application/vnd.databricks.v1+cell": {
     "cellMetadata": {
      "byteLimit": 2048000,
      "implicitDf": true,
      "rowLimit": 10000
     },
     "inputWidgets": {},
     "nuid": "f1742c2e-72a1-4b9f-8d95-2a3d2fe3010a",
     "showTitle": false,
     "tableResultSettingsMap": {},
     "title": ""
    }
   },
   "outputs": [],
   "source": [
    "%sql\n",
    "\n",
    "-- Depending on your Unity Catalog setup, you may need to create manually, if not uncomment and rerun\n",
    "CREATE CATALOG IF NOT EXISTS IDENTIFIER(:TARGET_CATALOG);\n",
    "\n",
    "CREATE SCHEMA IF NOT EXISTS IDENTIFIER(:TARGET_CATALOG || \".\" || :TARGET_SCHEMA);\n",
    "CREATE VOLUME IF NOT EXISTS IDENTIFIER(:TARGET_CATALOG || \".\" || :TARGET_SCHEMA || \".data\");\n",
    "USE IDENTIFIER(:TARGET_CATALOG || \".\" || :TARGET_SCHEMA);"
   ]
  },
  {
   "cell_type": "code",
   "execution_count": 0,
   "metadata": {
    "application/vnd.databricks.v1+cell": {
     "cellMetadata": {
      "byteLimit": 2048000,
      "rowLimit": 10000
     },
     "inputWidgets": {},
     "nuid": "d73898f5-79a5-425b-b0cd-2b6efe4ee809",
     "showTitle": false,
     "tableResultSettingsMap": {},
     "title": ""
    }
   },
   "outputs": [],
   "source": [
    "spark.sql(\n",
    "    f\"GRANT USE SCHEMA, SELECT, EXECUTE, READ VOLUME ON SCHEMA {TARGET_CATALOG}.{TARGET_SCHEMA} TO `account users`\"\n",
    ")"
   ]
  },
  {
   "cell_type": "code",
   "execution_count": 0,
   "metadata": {
    "application/vnd.databricks.v1+cell": {
     "cellMetadata": {
      "byteLimit": 2048000,
      "rowLimit": 10000
     },
     "inputWidgets": {},
     "nuid": "aa2aba8d-ec8c-4b92-800c-c70e7110be1c",
     "showTitle": false,
     "tableResultSettingsMap": {},
     "title": ""
    }
   },
   "outputs": [],
   "source": [
    "import os\n",
    "\n",
    "DATA_PATH = os.getcwd() + '/data'  # current path of invoices \n",
    "VOLUME_PATH = f\"/Volumes/{TARGET_CATALOG}/{TARGET_SCHEMA}/data\"\n",
    "\n",
    "print(f\"Removing existing Invoices from {VOLUME_PATH}...\")\n",
    "os.system(f\"rm -f {VOLUME_PATH}/*\")\n",
    "\n",
    "print(f\"Copying Invoices from {DATA_PATH} to {VOLUME_PATH}...\")\n",
    "os.system(f\"cp {DATA_PATH}/* {VOLUME_PATH}\")"
   ]
  },
  {
   "cell_type": "markdown",
   "metadata": {
    "application/vnd.databricks.v1+cell": {
     "cellMetadata": {
      "byteLimit": 2048000,
      "rowLimit": 10000
     },
     "inputWidgets": {},
     "nuid": "09748c29-aa9d-4876-9859-c77c999d986b",
     "showTitle": false,
     "tableResultSettingsMap": {},
     "title": ""
    }
   },
   "source": [
    "# 🧠 Databricks AI Functions\n",
    "\n",
    "Databricks SQL includes built-in AI functions that let you call foundation models directly in SQL for parsing documents or extracting entities.  \n",
    "\n",
    "---\n",
    "\n",
    "## 📄 `ai_parse_document(content)`\n",
    "\n",
    "**Purpose:**  \n",
    "Parses binary documents (PDF, Word, PowerPoint, images) into structured JSON output — extracting text, tables, and figures.  \n",
    "\n",
    "📘 Docs: [ai_parse_document](https://docs.databricks.com/aws/en/sql/language-manual/functions/ai_parse_document)\n",
    "\n",
    "---\n",
    "\n",
    "## 📄 `ai_extract(content, labels)`\n",
    "\n",
    "**Purpose:**  \n",
    "Extracts specific entities, fields, or attributes from text or document content using LLMs — ideal for structured extraction tasks.  \n",
    "\n",
    "📘 Docs: [ai_extract](https://docs.databricks.com/aws/en/sql/language-manual/functions/ai_extract)"
   ]
  },
  {
   "cell_type": "code",
   "execution_count": 0,
   "metadata": {
    "application/vnd.databricks.v1+cell": {
     "cellMetadata": {
      "byteLimit": 2048000,
      "implicitDf": true,
      "rowLimit": 10000
     },
     "inputWidgets": {},
     "nuid": "e51148d8-1bc1-46dc-9f59-f2684d5426ca",
     "showTitle": false,
     "tableResultSettingsMap": {},
     "title": ""
    }
   },
   "outputs": [],
   "source": [
    "%sql\n",
    "SELECT\n",
    "  ai_parse_document(content)\n",
    "FROM READ_FILES(\n",
    "  '/Volumes/' || :TARGET_CATALOG || '/' || :TARGET_SCHEMA || '/data/HandwrittenInvoice1.jpg',\n",
    "  format => 'binaryFile'\n",
    ");"
   ]
  },
  {
   "cell_type": "code",
   "execution_count": 0,
   "metadata": {
    "application/vnd.databricks.v1+cell": {
     "cellMetadata": {
      "byteLimit": 2048000,
      "implicitDf": true,
      "rowLimit": 10000
     },
     "inputWidgets": {},
     "nuid": "d9985e41-802c-40a8-9b37-eb048cf21794",
     "showTitle": false,
     "tableResultSettingsMap": {},
     "title": ""
    }
   },
   "outputs": [],
   "source": [
    "%sql\n",
    "SELECT\n",
    "  path,\n",
    "  extracted_fields['Supplier'] AS supplier,\n",
    "  extracted_fields['PO #'] AS po_number,\n",
    "  extracted_fields['Invoice Number'] AS invoice_number,\n",
    "  extracted_fields['Total Amount'] AS amount\n",
    "FROM (\n",
    "  SELECT\n",
    "    path,\n",
    "    ai_extract(\n",
    "      to_json(ai_parse_document(content)),\n",
    "      ARRAY(\n",
    "        'Supplier',\n",
    "        'PO #',\n",
    "        'Invoice Number',\n",
    "        'Total Amount'\n",
    "      )\n",
    "    ) AS extracted_fields\n",
    "  FROM READ_FILES(\n",
    "  '/Volumes/' || :TARGET_CATALOG || '/' || :TARGET_SCHEMA || '/data/',\n",
    "  format => 'binaryFile'\n",
    "  )\n",
    ")"
   ]
  }
 ],
 "metadata": {
  "application/vnd.databricks.v1+notebook": {
   "computePreferences": {
    "hardware": {
     "accelerator": null,
     "gpuPoolId": null,
     "memory": null
    }
   },
   "dashboards": [],
   "environmentMetadata": {
    "base_environment": "dbe_c75093c8-0895-475e-8c1b-6acacfe3368b",
    "environment_version": "2"
   },
   "inputWidgetPreferences": null,
   "language": "python",
   "notebookMetadata": {
    "mostRecentlyExecutedCommandWithImplicitDF": {
     "commandId": 6164202043386979,
     "dataframes": [
      "_sqldf"
     ]
    },
    "pythonIndentUnit": 4,
    "widgetLayout": []
   },
   "notebookName": "06_AI_Functions",
   "widgets": {
    "TARGET_CATALOG": {
     "currentValue": "workshop",
     "nuid": "28fa6258-e177-4a28-8c1e-4b0efc1b66c8",
     "typedWidgetInfo": {
      "autoCreated": false,
      "defaultValue": "workshop",
      "label": null,
      "name": "TARGET_CATALOG",
      "options": {
       "widgetDisplayType": "Text",
       "validationRegex": null
      },
      "parameterDataType": "String"
     },
     "widgetInfo": {
      "widgetType": "text",
      "defaultValue": "workshop",
      "label": null,
      "name": "TARGET_CATALOG",
      "options": {
       "widgetType": "text",
       "autoCreated": false,
       "validationRegex": null
      }
     }
    },
    "TARGET_SCHEMA": {
     "currentValue": "invoices",
     "nuid": "1eba5568-d448-4613-ac42-a009dbee1562",
     "typedWidgetInfo": {
      "autoCreated": false,
      "defaultValue": "invoices",
      "label": null,
      "name": "TARGET_SCHEMA",
      "options": {
       "widgetDisplayType": "Text",
       "validationRegex": null
      },
      "parameterDataType": "String"
     },
     "widgetInfo": {
      "widgetType": "text",
      "defaultValue": "invoices",
      "label": null,
      "name": "TARGET_SCHEMA",
      "options": {
       "widgetType": "text",
       "autoCreated": false,
       "validationRegex": null
      }
     }
    }
   }
  },
  "language_info": {
   "name": "python"
  }
 },
 "nbformat": 4,
 "nbformat_minor": 0
}
