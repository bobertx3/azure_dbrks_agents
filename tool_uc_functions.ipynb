{
 "cells": [
  {
   "cell_type": "markdown",
   "metadata": {
    "application/vnd.databricks.v1+cell": {
     "cellMetadata": {},
     "inputWidgets": {},
     "nuid": "d9870166-98c2-4c9b-81c2-9fcbe32562d6",
     "showTitle": false,
     "tableResultSettingsMap": {},
     "title": ""
    }
   },
   "source": [
    "This notebook demonstrates SQL UDFs in Databricks for inventory and temperature management:\n",
    "\n",
    "- **Supplier Lookup:** Uses `get_supplier_details` to fetch supplier info.\n",
    "- **Backup Inventory:** Defines `get_backup_inventory` to list available stock by product ID, ordered by expiry.\n",
    "- **Function Usage:** Shows how to query backup inventory for a product.\n",
    "- **Temperature Gap:** Implements `temp_gap` to calculate the difference between ambient and safe product temperatures."
   ]
  },
  {
   "cell_type": "code",
   "execution_count": 0,
   "metadata": {
    "application/vnd.databricks.v1+cell": {
     "cellMetadata": {
      "byteLimit": 2048000,
      "rowLimit": 10000
     },
     "inputWidgets": {},
     "nuid": "5c5f6424-b9fa-412a-8514-61fed3294b7e",
     "showTitle": false,
     "tableResultSettingsMap": {},
     "title": ""
    }
   },
   "outputs": [],
   "source": [
    "%pip install -U -qqqq unitycatalog-ai[databricks] mlflow-skinny[databricks] langgraph==0.3.4 databricks-langchain databricks-agents python-dotenv uv\n",
    "%restart_python"
   ]
  },
  {
   "cell_type": "code",
   "execution_count": 0,
   "metadata": {
    "application/vnd.databricks.v1+cell": {
     "cellMetadata": {
      "byteLimit": 2048000,
      "rowLimit": 10000
     },
     "inputWidgets": {},
     "nuid": "0a5d9fc9-eb11-42f2-bc6e-e44036957eac",
     "showTitle": false,
     "tableResultSettingsMap": {},
     "title": ""
    }
   },
   "outputs": [],
   "source": [
    "import sys\n",
    "sys.path.append(\".\")"
   ]
  },
  {
   "cell_type": "code",
   "execution_count": 0,
   "metadata": {
    "application/vnd.databricks.v1+cell": {
     "cellMetadata": {
      "byteLimit": 2048000,
      "rowLimit": 10000
     },
     "inputWidgets": {},
     "nuid": "66a9765c-a3f0-428f-91ec-e84f0011b19b",
     "showTitle": false,
     "tableResultSettingsMap": {},
     "title": ""
    }
   },
   "outputs": [],
   "source": [
    "dbutils.widgets.removeAll()"
   ]
  },
  {
   "cell_type": "code",
   "execution_count": 0,
   "metadata": {
    "application/vnd.databricks.v1+cell": {
     "cellMetadata": {
      "byteLimit": 2048000,
      "rowLimit": 10000
     },
     "inputWidgets": {},
     "nuid": "55b104aa-1121-4f66-8826-1346877c027b",
     "showTitle": false,
     "tableResultSettingsMap": {},
     "title": ""
    }
   },
   "outputs": [],
   "source": [
    "import os\n",
    "# from dotenv import load_dotenv, find_dotenv\n",
    "# load_dotenv(find_dotenv())  \n",
    "\n",
    "# Create widgets in order to bind environment variables to the SQL session variables so they can be used in %sql cells\n",
    "dbutils.widgets.text(\"TARGET_CATALOG\", \"workshop\")\n",
    "dbutils.widgets.text(\"TARGET_SCHEMA\", \"supply_chain\")\n",
    "\n",
    "TARGET_CATALOG = dbutils.widgets.get(\"TARGET_CATALOG\")\n",
    "TARGET_SCHEMA = dbutils.widgets.get(\"TARGET_SCHEMA\")\n",
    "\n",
    "\n",
    "print(f\"TARGET_CATALOG: {TARGET_CATALOG}\")\n",
    "print(f\"TARGET_SCHEMA: {TARGET_SCHEMA}\")"
   ]
  },
  {
   "cell_type": "code",
   "execution_count": 0,
   "metadata": {
    "application/vnd.databricks.v1+cell": {
     "cellMetadata": {
      "byteLimit": 2048000,
      "implicitDf": true,
      "rowLimit": 10000
     },
     "inputWidgets": {},
     "nuid": "5dbba046-f406-4d59-970f-cd62acbfe232",
     "showTitle": false,
     "tableResultSettingsMap": {},
     "title": ""
    }
   },
   "outputs": [],
   "source": [
    "%sql\n",
    "USE IDENTIFIER(:TARGET_CATALOG || \".\" || :TARGET_SCHEMA);"
   ]
  },
  {
   "cell_type": "code",
   "execution_count": 0,
   "metadata": {
    "application/vnd.databricks.v1+cell": {
     "cellMetadata": {
      "byteLimit": 2048000,
      "implicitDf": true,
      "rowLimit": 10000
     },
     "inputWidgets": {},
     "nuid": "5cbc89b5-8ab5-4978-9877-400714f84799",
     "showTitle": false,
     "tableResultSettingsMap": {},
     "title": ""
    }
   },
   "outputs": [],
   "source": [
    "%sql\n",
    "CREATE OR REPLACE FUNCTION get_shipments(\n",
    "  dest_city STRING COMMENT 'Optional: City or region to filter (e.g. NYC)',\n",
    "  shipment_status STRING COMMENT 'Optional: Filter by shipment status (e.g. in-transit, delivered, delayed). Use NULL for all.'\n",
    ")\n",
    "RETURNS TABLE(\n",
    "  shipment_id STRING COMMENT 'Shipment ID',\n",
    "  product_id STRING COMMENT 'Product ID',\n",
    "  product_name STRING COMMENT 'Product name',\n",
    "  supplier_id STRING COMMENT 'Supplier ID',\n",
    "  destination STRING COMMENT 'Destination city',\n",
    "  eta_date DATE COMMENT 'ETA delivery date',\n",
    "  status STRING COMMENT 'Shipment status',\n",
    "  temperature_max_f DOUBLE COMMENT 'Max safe temp (°F)'\n",
    ")\n",
    "LANGUAGE SQL\n",
    "COMMENT 'Retrieve shipments optionally filtered by city and/or status.'\n",
    "RETURN\n",
    "(\n",
    "  SELECT\n",
    "    shipment_id,\n",
    "    product_id,\n",
    "    product_name,\n",
    "    supplier_id,\n",
    "    destination,\n",
    "    CAST(eta_date AS DATE) AS eta_date,\n",
    "    status,\n",
    "    temperature_max_f\n",
    "  FROM shipments\n",
    "  WHERE\n",
    "    -- Filter by destination if provided\n",
    "    (\n",
    "      dest_city IS NULL\n",
    "      OR LOWER(destination) LIKE CONCAT('%', LOWER(dest_city), '%')\n",
    "      OR (\n",
    "        LOWER(dest_city) IN ('ny', 'nyc', 'new york', 'new york city')\n",
    "        AND LOWER(destination) LIKE '%new york%'\n",
    "      )\n",
    "    )\n",
    "    -- Filter by status if provided\n",
    "    AND (\n",
    "      shipment_status IS NULL\n",
    "      OR LOWER(status) = LOWER(shipment_status)\n",
    "    )\n",
    "  ORDER BY eta_date ASC\n",
    ");"
   ]
  },
  {
   "cell_type": "code",
   "execution_count": 0,
   "metadata": {
    "application/vnd.databricks.v1+cell": {
     "cellMetadata": {
      "byteLimit": 2048000,
      "implicitDf": true,
      "rowLimit": 10000
     },
     "inputWidgets": {},
     "nuid": "0be808d6-5a5c-44ba-95ba-b4c2946fd2e6",
     "showTitle": false,
     "tableResultSettingsMap": {},
     "title": ""
    }
   },
   "outputs": [],
   "source": [
    "%sql\n",
    "SELECT * FROM get_shipments('New York', 'in-Transit');"
   ]
  },
  {
   "cell_type": "code",
   "execution_count": 0,
   "metadata": {
    "application/vnd.databricks.v1+cell": {
     "cellMetadata": {
      "byteLimit": 2048000,
      "implicitDf": true,
      "rowLimit": 10000
     },
     "inputWidgets": {},
     "nuid": "19ca9428-b006-49b0-8868-b1971b7c2ba6",
     "showTitle": false,
     "tableResultSettingsMap": {},
     "title": ""
    }
   },
   "outputs": [],
   "source": [
    "%sql\n",
    "CREATE OR REPLACE FUNCTION get_supplier_details(\n",
    "  supplier_name STRING COMMENT 'Supplier name (case-insensitive)'\n",
    ")\n",
    "RETURNS TABLE(\n",
    "  supplier_id STRING COMMENT 'Supplier ID',\n",
    "  supplier_name STRING COMMENT 'Supplier name',\n",
    "  contact_name STRING COMMENT 'Main contact name',\n",
    "  contact_email STRING COMMENT 'Contact email',\n",
    "  phone STRING COMMENT 'Contact phone',\n",
    "  tier STRING COMMENT 'Supplier tier level'\n",
    ")\n",
    "LANGUAGE SQL\n",
    "COMMENT 'Gets supplier contact and escalation info.'\n",
    "RETURN\n",
    "(\n",
    "  SELECT\n",
    "    supplier_id,\n",
    "    supplier_name,\n",
    "    contact_name,\n",
    "    contact_email,\n",
    "    phone,\n",
    "    tier\n",
    "  FROM suppliers\n",
    "  WHERE LOWER(supplier_name) LIKE LOWER(CONCAT('%', supplier_name, '%'))\n",
    "  LIMIT 1\n",
    ");"
   ]
  },
  {
   "cell_type": "code",
   "execution_count": 0,
   "metadata": {
    "application/vnd.databricks.v1+cell": {
     "cellMetadata": {
      "byteLimit": 2048000,
      "implicitDf": true,
      "rowLimit": 10000
     },
     "inputWidgets": {},
     "nuid": "aa566b53-eb1c-4477-98f1-e7652f263043",
     "showTitle": false,
     "tableResultSettingsMap": {},
     "title": ""
    }
   },
   "outputs": [],
   "source": [
    "%sql\n",
    "SELECT * FROM get_supplier_details('Zimmer Biotech');"
   ]
  },
  {
   "cell_type": "code",
   "execution_count": 0,
   "metadata": {
    "application/vnd.databricks.v1+cell": {
     "cellMetadata": {
      "byteLimit": 2048000,
      "implicitDf": true,
      "rowLimit": 10000
     },
     "inputWidgets": {},
     "nuid": "b58650dc-05b7-480c-adbd-b0cdd96c6f24",
     "showTitle": false,
     "tableResultSettingsMap": {},
     "title": ""
    }
   },
   "outputs": [],
   "source": [
    "%sql\n",
    "CREATE OR REPLACE FUNCTION get_backup_inventory(\n",
    "  product_id STRING COMMENT 'Product ID or partial ID'\n",
    ")\n",
    "RETURNS TABLE(\n",
    "  site_id STRING COMMENT 'Warehouse ID',\n",
    "  site_name STRING COMMENT 'Warehouse name',\n",
    "  city STRING COMMENT 'Warehouse city',\n",
    "  state STRING COMMENT 'Warehouse state',\n",
    "  product_id STRING COMMENT 'Product ID',\n",
    "  product_name STRING COMMENT 'Product name',\n",
    "  supplier_id STRING COMMENT 'Supplier ID',\n",
    "  on_hand_qty INT COMMENT 'Available quantity',\n",
    "  lot_expiry DATE COMMENT 'Lot expiry date'\n",
    ")\n",
    "LANGUAGE SQL\n",
    "COMMENT 'Returns backup stock by product ID.'\n",
    "RETURN\n",
    "(\n",
    "  SELECT\n",
    "    site_id,\n",
    "    site_name,\n",
    "    city,\n",
    "    state,\n",
    "    product_id,\n",
    "    product_name,\n",
    "    supplier_id,\n",
    "    on_hand_qty,\n",
    "    CAST(lot_expiry AS DATE) AS lot_expiry\n",
    "  FROM inventory\n",
    "  WHERE LOWER(inventory.product_id) LIKE LOWER(CONCAT('%', product_id, '%'))\n",
    "    AND on_hand_qty > 0\n",
    "  ORDER BY lot_expiry ASC\n",
    ");"
   ]
  },
  {
   "cell_type": "code",
   "execution_count": 0,
   "metadata": {
    "application/vnd.databricks.v1+cell": {
     "cellMetadata": {
      "byteLimit": 2048000,
      "implicitDf": true,
      "rowLimit": 10000
     },
     "inputWidgets": {},
     "nuid": "97b921fe-386a-4ea4-833b-192ce5b574b2",
     "showTitle": false,
     "tableResultSettingsMap": {},
     "title": ""
    }
   },
   "outputs": [],
   "source": [
    "%sql\n",
    "SELECT * FROM get_backup_inventory('PRD-001');"
   ]
  },
  {
   "cell_type": "code",
   "execution_count": 0,
   "metadata": {
    "application/vnd.databricks.v1+cell": {
     "cellMetadata": {
      "byteLimit": 2048000,
      "implicitDf": true,
      "rowLimit": 10000
     },
     "inputWidgets": {},
     "nuid": "64aad473-262d-4365-b5ac-5da611d64ff1",
     "showTitle": false,
     "tableResultSettingsMap": {},
     "title": ""
    }
   },
   "outputs": [],
   "source": [
    "%sql\n",
    "CREATE OR REPLACE FUNCTION temp_gap(\n",
    "  weather_f DOUBLE COMMENT 'Current or forecasted ambient temperature in degrees Fahrenheit at the shipment destination.',\n",
    "  max_temp_f DOUBLE COMMENT 'Maximum allowable temperature in degrees Fahrenheit for the product to remain within safe limits.'\n",
    ")\n",
    "RETURNS DOUBLE\n",
    "LANGUAGE SQL\n",
    "COMMENT 'Calculates the rounded absolute difference (in °F) between current weather and a product’s maximum safe temperature threshold. Positive values indicate risk of overexposure or cold-chain failure.'\n",
    "RETURN ROUND(ABS(max_temp_f - weather_f));"
   ]
  },
  {
   "cell_type": "code",
   "execution_count": 0,
   "metadata": {
    "application/vnd.databricks.v1+cell": {
     "cellMetadata": {
      "byteLimit": 2048000,
      "implicitDf": true,
      "rowLimit": 10000
     },
     "inputWidgets": {},
     "nuid": "1c2e423b-bd73-41ef-a2fb-1e1d150db6da",
     "showTitle": false,
     "tableResultSettingsMap": {},
     "title": ""
    }
   },
   "outputs": [],
   "source": [
    "%sql\n",
    "SELECT\n",
    "  shipment_id,\n",
    "  temperature_max_f,\n",
    "  temp_gap(50, temperature_max_f) AS diff\n",
    "FROM shipments;"
   ]
  }
 ],
 "metadata": {
  "application/vnd.databricks.v1+notebook": {
   "computePreferences": {
    "hardware": {
     "accelerator": null,
     "gpuPoolId": null,
     "memory": null
    }
   },
   "dashboards": [],
   "environmentMetadata": {
    "base_environment": "dbe_c75093c8-0895-475e-8c1b-6acacfe3368b",
    "environment_version": "2"
   },
   "inputWidgetPreferences": null,
   "language": "python",
   "notebookMetadata": {
    "mostRecentlyExecutedCommandWithImplicitDF": {
     "commandId": 6041467786822130,
     "dataframes": [
      "_sqldf"
     ]
    },
    "pythonIndentUnit": 4,
    "widgetLayout": []
   },
   "notebookName": "tool_uc_functions",
   "widgets": {
    "TARGET_CATALOG": {
     "currentValue": "workshop",
     "nuid": "6125c29e-e7f9-46d6-9877-ec8e6e82c7c8",
     "typedWidgetInfo": {
      "autoCreated": false,
      "defaultValue": "workshop",
      "label": null,
      "name": "TARGET_CATALOG",
      "options": {
       "widgetDisplayType": "Text",
       "validationRegex": null
      },
      "parameterDataType": "String"
     },
     "widgetInfo": {
      "widgetType": "text",
      "defaultValue": "workshop",
      "label": null,
      "name": "TARGET_CATALOG",
      "options": {
       "widgetType": "text",
       "autoCreated": null,
       "validationRegex": null
      }
     }
    },
    "TARGET_SCHEMA": {
     "currentValue": "supply_chain",
     "nuid": "ddeda89f-3f1f-4edc-b2df-e364183c1940",
     "typedWidgetInfo": {
      "autoCreated": false,
      "defaultValue": "supply_chain",
      "label": null,
      "name": "TARGET_SCHEMA",
      "options": {
       "widgetDisplayType": "Text",
       "validationRegex": null
      },
      "parameterDataType": "String"
     },
     "widgetInfo": {
      "widgetType": "text",
      "defaultValue": "supply_chain",
      "label": null,
      "name": "TARGET_SCHEMA",
      "options": {
       "widgetType": "text",
       "autoCreated": null,
       "validationRegex": null
      }
     }
    }
   }
  },
  "language_info": {
   "name": "python"
  }
 },
 "nbformat": 4,
 "nbformat_minor": 0
}
