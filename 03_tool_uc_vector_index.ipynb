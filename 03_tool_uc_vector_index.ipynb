{
 "cells": [
  {
   "cell_type": "code",
   "execution_count": 0,
   "metadata": {
    "application/vnd.databricks.v1+cell": {
     "cellMetadata": {
      "byteLimit": 2048000,
      "rowLimit": 10000
     },
     "inputWidgets": {},
     "nuid": "bc3f9b86-9827-4e1d-beb8-e316fac30461",
     "showTitle": false,
     "tableResultSettingsMap": {},
     "title": ""
    }
   },
   "outputs": [],
   "source": [
    "%pip install -U -qqqq unitycatalog-ai[databricks] mlflow-skinny[databricks] langgraph==0.3.4 databricks-langchain databricks-agents python-dotenv uv\n",
    "%restart_python"
   ]
  },
  {
   "cell_type": "code",
   "execution_count": 0,
   "metadata": {
    "application/vnd.databricks.v1+cell": {
     "cellMetadata": {
      "byteLimit": 2048000,
      "rowLimit": 10000
     },
     "inputWidgets": {},
     "nuid": "a9afb6f4-fda0-463f-9161-dd10acf5bb68",
     "showTitle": false,
     "tableResultSettingsMap": {},
     "title": ""
    }
   },
   "outputs": [],
   "source": [
    "import sys\n",
    "sys.path.append(\".\")\n"
   ]
  },
  {
   "cell_type": "code",
   "execution_count": 0,
   "metadata": {
    "application/vnd.databricks.v1+cell": {
     "cellMetadata": {
      "byteLimit": 2048000,
      "rowLimit": 10000
     },
     "inputWidgets": {},
     "nuid": "3a3d07de-5d61-4be3-b784-2bf3ff2eb07e",
     "showTitle": false,
     "tableResultSettingsMap": {},
     "title": ""
    }
   },
   "outputs": [],
   "source": [
    "dbutils.widgets.removeAll()"
   ]
  },
  {
   "cell_type": "code",
   "execution_count": 0,
   "metadata": {
    "application/vnd.databricks.v1+cell": {
     "cellMetadata": {
      "byteLimit": 2048000,
      "rowLimit": 10000
     },
     "inputWidgets": {},
     "nuid": "7bda3d26-6255-4135-b58d-0ab43a0b77ce",
     "showTitle": false,
     "tableResultSettingsMap": {},
     "title": ""
    }
   },
   "outputs": [],
   "source": [
    "\n",
    "# Create widgets in order to bind environment variables to the SQL session variables so they can be used in %sql cells\n",
    "dbutils.widgets.text(\"TARGET_CATALOG\", \"workshop\")\n",
    "dbutils.widgets.text(\"TARGET_SCHEMA\", \"supply_chain\")\n",
    "dbutils.widgets.text(\"VS_INDEX_BASE_TABLE\", \"supplier_sops\")\n",
    "dbutils.widgets.text(\"VS_INDEX\", \"supplier_sops_vs_index\")\n",
    "\n",
    "TARGET_CATALOG = dbutils.widgets.get(\"TARGET_CATALOG\")\n",
    "TARGET_SCHEMA = dbutils.widgets.get(\"TARGET_SCHEMA\")\n",
    "VS_INDEX_BASE_TABLE = dbutils.widgets.get(\"VS_INDEX_BASE_TABLE\")\n",
    "VS_INDEX = dbutils.widgets.get(\"VS_INDEX\")\n",
    "\n",
    "print(f\"TARGET_CATALOG: {TARGET_CATALOG}\")\n",
    "print(f\"TARGET_SCHEMA: {TARGET_SCHEMA}\")\n",
    "print(f\"VS_INDEX_BASE_TABLE: {VS_INDEX_BASE_TABLE}\")\n",
    "print(f\"VS_INDEX: {VS_INDEX}\")"
   ]
  },
  {
   "cell_type": "code",
   "execution_count": 0,
   "metadata": {
    "application/vnd.databricks.v1+cell": {
     "cellMetadata": {
      "byteLimit": 2048000,
      "rowLimit": 10000
     },
     "inputWidgets": {},
     "nuid": "e9564702-097a-4794-a199-c05ab8bdd23a",
     "showTitle": false,
     "tableResultSettingsMap": {},
     "title": ""
    }
   },
   "outputs": [],
   "source": [
    "from databricks.vector_search.client import VectorSearchClient\n",
    "\n",
    "client = VectorSearchClient()\n",
    "\n",
    "index_name = f\"{TARGET_CATALOG}.{TARGET_SCHEMA}.{VS_INDEX}\"\n",
    "print(index_name)\n",
    "\n",
    "if index_name not in [\n",
    "    i[\"name\"] for i in client.list_indexes(TARGET_CATALOG).get(\"vector_indexes\", [])\n",
    "]:\n",
    "  print(f\"Creating index {index_name}\")\n",
    "  client.create_delta_sync_index_and_wait(\n",
    "        endpoint_name=TARGET_CATALOG,\n",
    "        source_table_name=f\"{TARGET_CATALOG}.{TARGET_SCHEMA}.{VS_INDEX_BASE_TABLE}\",\n",
    "        index_name=index_name,\n",
    "        pipeline_type=\"TRIGGERED\",\n",
    "        primary_key=\"product_id\",\n",
    "        embedding_source_column=\"product_doc\",\n",
    "        embedding_model_endpoint_name=\"databricks-gte-large-en\",\n",
    "    )\n",
    "print(f\"Created index {index_name}\")"
   ]
  },
  {
   "cell_type": "code",
   "execution_count": 0,
   "metadata": {
    "application/vnd.databricks.v1+cell": {
     "cellMetadata": {
      "byteLimit": 2048000,
      "rowLimit": 10000
     },
     "inputWidgets": {},
     "nuid": "edf6fa30-4289-4b97-a3ee-3e2b408cbf42",
     "showTitle": false,
     "tableResultSettingsMap": {},
     "title": ""
    }
   },
   "outputs": [],
   "source": [
    "from databricks.sdk import WorkspaceClient\n",
    "w = WorkspaceClient()\n",
    "idx = w.vector_search_indexes.get_index(index_name=index_name)\n",
    "\n",
    "print(\"ready:\", idx.status.ready)\n",
    "print(\"rows:\", idx.status.indexed_row_count)\n",
    "print(\"message:\", idx.status.message)   # <-- often contains the root cause"
   ]
  }
 ],
 "metadata": {
  "application/vnd.databricks.v1+notebook": {
   "computePreferences": null,
   "dashboards": [],
   "environmentMetadata": {
    "base_environment": "",
    "environment_version": "3"
   },
   "inputWidgetPreferences": null,
   "language": "python",
   "notebookMetadata": {
    "pythonIndentUnit": 4
   },
   "notebookName": "03_tool_uc_vector_index",
   "widgets": {
    "TARGET_CATALOG": {
     "currentValue": "workshop",
     "nuid": "08f892c0-c0f5-441c-ae8a-c49118672b1f",
     "typedWidgetInfo": {
      "autoCreated": false,
      "defaultValue": "workshop",
      "label": null,
      "name": "TARGET_CATALOG",
      "options": {
       "widgetDisplayType": "Text",
       "validationRegex": null
      },
      "parameterDataType": "String"
     },
     "widgetInfo": {
      "widgetType": "text",
      "defaultValue": "workshop",
      "label": null,
      "name": "TARGET_CATALOG",
      "options": {
       "widgetType": "text",
       "autoCreated": null,
       "validationRegex": null
      }
     }
    },
    "TARGET_SCHEMA": {
     "currentValue": "supply_chain",
     "nuid": "e9289600-0512-40b4-af04-faf9e8cc71cf",
     "typedWidgetInfo": {
      "autoCreated": false,
      "defaultValue": "supply_chain",
      "label": null,
      "name": "TARGET_SCHEMA",
      "options": {
       "widgetDisplayType": "Text",
       "validationRegex": null
      },
      "parameterDataType": "String"
     },
     "widgetInfo": {
      "widgetType": "text",
      "defaultValue": "supply_chain",
      "label": null,
      "name": "TARGET_SCHEMA",
      "options": {
       "widgetType": "text",
       "autoCreated": null,
       "validationRegex": null
      }
     }
    },
    "VS_INDEX": {
     "currentValue": "supplier_sops_vs_index",
     "nuid": "3df83e98-aece-46da-8544-ed744acf1c4f",
     "typedWidgetInfo": {
      "autoCreated": false,
      "defaultValue": "supplier_sops_vs_index",
      "label": null,
      "name": "VS_INDEX",
      "options": {
       "widgetDisplayType": "Text",
       "validationRegex": null
      },
      "parameterDataType": "String"
     },
     "widgetInfo": {
      "widgetType": "text",
      "defaultValue": "supplier_sops_vs_index",
      "label": null,
      "name": "VS_INDEX",
      "options": {
       "widgetType": "text",
       "autoCreated": null,
       "validationRegex": null
      }
     }
    },
    "VS_INDEX_BASE_TABLE": {
     "currentValue": "supplier_sops",
     "nuid": "dfc33970-6705-4bee-ba20-388a91ce6cb2",
     "typedWidgetInfo": {
      "autoCreated": false,
      "defaultValue": "supplier_sops",
      "label": null,
      "name": "VS_INDEX_BASE_TABLE",
      "options": {
       "widgetDisplayType": "Text",
       "validationRegex": null
      },
      "parameterDataType": "String"
     },
     "widgetInfo": {
      "widgetType": "text",
      "defaultValue": "supplier_sops",
      "label": null,
      "name": "VS_INDEX_BASE_TABLE",
      "options": {
       "widgetType": "text",
       "autoCreated": null,
       "validationRegex": null
      }
     }
    }
   }
  },
  "language_info": {
   "name": "python"
  }
 },
 "nbformat": 4,
 "nbformat_minor": 0
}
