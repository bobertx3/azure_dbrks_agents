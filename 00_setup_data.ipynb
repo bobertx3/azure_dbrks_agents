{
 "cells": [
  {
   "cell_type": "markdown",
   "metadata": {
    "application/vnd.databricks.v1+cell": {
     "cellMetadata": {
      "byteLimit": 2048000,
      "rowLimit": 10000
     },
     "inputWidgets": {},
     "nuid": "d13d3e5b-cb14-477a-b73e-ef413f2d4d17",
     "showTitle": false,
     "tableResultSettingsMap": {},
     "title": ""
    }
   },
   "source": [
    "# Overview\n",
    "\n",
    "This notebook runs the setup for the agent. It guides you through the following steps:\n",
    "\n",
    "1. **Schema and Volume Setup:** Creates a dedicated schema and volume for your data.\n",
    "2. **Permissions:** Grants necessary permissions to all account users for collaborative access.\n",
    "3. **Data Upload:** Uploads sample CSV files to the Databricks volume.\n",
    "4. **Delta Table Creation:** Reads the uploaded CSV files and creates Delta tables, including enabling Change Data Feed for the `supplier_sops` table.\n",
    "5. **Vector Search Endpoint:** Initializes and waits for a Databricks Vector Search endpoint.\n",
    "6. **Index Creation:** Not in this notebook. Index will be created in `/uc_tools` during tool setup\n",
    "By the end of this workflow, all the data dependencies for the agent are setup"
   ]
  },
  {
   "cell_type": "code",
   "execution_count": 0,
   "metadata": {
    "application/vnd.databricks.v1+cell": {
     "cellMetadata": {
      "byteLimit": 2048000,
      "rowLimit": 10000
     },
     "inputWidgets": {},
     "nuid": "5c5f6424-b9fa-412a-8514-61fed3294b7e",
     "showTitle": false,
     "tableResultSettingsMap": {},
     "title": ""
    }
   },
   "outputs": [],
   "source": [
    "%pip install -U -qqqq unitycatalog-ai[databricks] mlflow-skinny[databricks] langgraph==0.3.4 databricks-langchain databricks-agents python-dotenv uv\n",
    "%restart_python"
   ]
  },
  {
   "cell_type": "code",
   "execution_count": 0,
   "metadata": {
    "application/vnd.databricks.v1+cell": {
     "cellMetadata": {
      "byteLimit": 2048000,
      "rowLimit": 10000
     },
     "inputWidgets": {},
     "nuid": "dbb07eeb-7f6b-4b09-b4f3-6d93b8027b31",
     "showTitle": false,
     "tableResultSettingsMap": {},
     "title": ""
    }
   },
   "outputs": [],
   "source": [
    "dbutils.widgets.removeAll()"
   ]
  },
  {
   "cell_type": "code",
   "execution_count": 0,
   "metadata": {
    "application/vnd.databricks.v1+cell": {
     "cellMetadata": {
      "byteLimit": 2048000,
      "rowLimit": 10000
     },
     "inputWidgets": {},
     "nuid": "57d2b5eb-099c-46dd-a674-9969182bfd0f",
     "showTitle": false,
     "tableResultSettingsMap": {},
     "title": ""
    }
   },
   "outputs": [],
   "source": [
    "# Create widgets in order to bind environment variables to the SQL session variables so they can be used in %sql cells\n",
    "dbutils.widgets.text(\"TARGET_CATALOG\", \"workshop\")\n",
    "dbutils.widgets.text(\"TARGET_SCHEMA\", \"supply_chain\")\n",
    "dbutils.widgets.text(\"VS_INDEX_BASE_TABLE\", \"supplier_sops\")\n",
    "dbutils.widgets.text(\"VS_INDEX\", \"supplier_sops_vs_index\")\n",
    "\n",
    "TARGET_CATALOG = dbutils.widgets.get(\"TARGET_CATALOG\")\n",
    "TARGET_SCHEMA = dbutils.widgets.get(\"TARGET_SCHEMA\")\n",
    "VS_INDEX_BASE_TABLE = dbutils.widgets.get(\"VS_INDEX_BASE_TABLE\")\n",
    "VS_INDEX = dbutils.widgets.get(\"VS_INDEX\")\n",
    "\n",
    "print(f\"TARGET_CATALOG: {TARGET_CATALOG}\")\n",
    "print(f\"TARGET_SCHEMA: {TARGET_SCHEMA}\")\n",
    "print(f\"VS_INDEX_BASE_TABLE: {VS_INDEX_BASE_TABLE}\")\n",
    "print(f\"VS_INDEX: {VS_INDEX}\")"
   ]
  },
  {
   "cell_type": "code",
   "execution_count": 0,
   "metadata": {
    "application/vnd.databricks.v1+cell": {
     "cellMetadata": {
      "byteLimit": 2048000,
      "implicitDf": true,
      "rowLimit": 10000
     },
     "inputWidgets": {},
     "nuid": "f1742c2e-72a1-4b9f-8d95-2a3d2fe3010a",
     "showTitle": false,
     "tableResultSettingsMap": {},
     "title": ""
    }
   },
   "outputs": [],
   "source": [
    "%sql\n",
    "\n",
    "-- Depending on your Unity Catalog setup, you may need to create manually, if not uncomment and rerun\n",
    "CREATE CATALOG IF NOT EXISTS IDENTIFIER(:TARGET_CATALOG);\n",
    "\n",
    "CREATE SCHEMA IF NOT EXISTS IDENTIFIER(:TARGET_CATALOG || \".\" || :TARGET_SCHEMA);\n",
    "CREATE VOLUME IF NOT EXISTS IDENTIFIER(:TARGET_CATALOG || \".\" || :TARGET_SCHEMA || \".data\");\n",
    "USE IDENTIFIER(:TARGET_CATALOG || \".\" || :TARGET_SCHEMA);"
   ]
  },
  {
   "cell_type": "code",
   "execution_count": 0,
   "metadata": {
    "application/vnd.databricks.v1+cell": {
     "cellMetadata": {
      "byteLimit": 2048000,
      "rowLimit": 10000
     },
     "inputWidgets": {},
     "nuid": "d73898f5-79a5-425b-b0cd-2b6efe4ee809",
     "showTitle": false,
     "tableResultSettingsMap": {},
     "title": ""
    }
   },
   "outputs": [],
   "source": [
    "spark.sql(\n",
    "    f\"GRANT USE SCHEMA, SELECT, EXECUTE, READ VOLUME ON SCHEMA {TARGET_CATALOG}.{TARGET_SCHEMA} TO `account users`\"\n",
    ")"
   ]
  },
  {
   "cell_type": "code",
   "execution_count": 0,
   "metadata": {
    "application/vnd.databricks.v1+cell": {
     "cellMetadata": {
      "byteLimit": 2048000,
      "rowLimit": 10000
     },
     "inputWidgets": {},
     "nuid": "aa2aba8d-ec8c-4b92-800c-c70e7110be1c",
     "showTitle": false,
     "tableResultSettingsMap": {},
     "title": ""
    }
   },
   "outputs": [],
   "source": [
    "import os\n",
    "\n",
    "DATA_PATH = os.getcwd() + '/data'  # current path of csv files\n",
    "VOLUME_PATH = f\"/Volumes/{TARGET_CATALOG}/{TARGET_SCHEMA}/data\"\n",
    "\n",
    "print(f\"Removing existing CSVs from {VOLUME_PATH}...\")\n",
    "os.system(f\"rm -f {VOLUME_PATH}/*.csv\")\n",
    "\n",
    "print(f\"Copying CSVs from {DATA_PATH} to {VOLUME_PATH}...\")\n",
    "os.system(f\"cp {DATA_PATH}/*.csv {VOLUME_PATH}\")"
   ]
  },
  {
   "cell_type": "code",
   "execution_count": 0,
   "metadata": {
    "application/vnd.databricks.v1+cell": {
     "cellMetadata": {
      "byteLimit": 2048000,
      "implicitDf": true,
      "rowLimit": 10000
     },
     "inputWidgets": {},
     "nuid": "55cab783-317c-4ae9-b425-ea4143859bbc",
     "showTitle": false,
     "tableResultSettingsMap": {},
     "title": ""
    }
   },
   "outputs": [],
   "source": [
    "%sql\n",
    "-- shipments.csv -> table: shipments\n",
    "CREATE OR REPLACE TABLE shipments\n",
    "SELECT * EXCEPT (_rescued_data)\n",
    "FROM read_files(\n",
    "  \"/Volumes/\" || :TARGET_CATALOG || \"/\" || :TARGET_SCHEMA || \"/data/shipments.csv\",\n",
    "  FORMAT => \"csv\",\n",
    "  HEADER => true\n",
    ");\n",
    "\n",
    "-- suppliers.csv -> table: suppliers\n",
    "CREATE OR REPLACE TABLE suppliers\n",
    "SELECT * EXCEPT (_rescued_data)\n",
    "FROM read_files(\n",
    "  \"/Volumes/\" || :TARGET_CATALOG || \"/\" || :TARGET_SCHEMA || \"/data/suppliers.csv\",\n",
    "  FORMAT => \"csv\",\n",
    "  HEADER => true\n",
    ");\n",
    "\n",
    "-- inventory.csv -> table: inventory\n",
    "CREATE OR REPLACE TABLE inventory\n",
    "SELECT * EXCEPT (_rescued_data)\n",
    "FROM read_files(\n",
    "  \"/Volumes/\" || :TARGET_CATALOG || \"/\" || :TARGET_SCHEMA || \"/data/inventory.csv\",\n",
    "  FORMAT => \"csv\",\n",
    "  HEADER => true\n",
    ");\n",
    "\n",
    "-- supplier_sops.csv -> table: supplier_sops  (multiline text with embedded quotes)\n",
    "CREATE OR REPLACE TABLE IDENTIFIER(:VS_INDEX_BASE_TABLE)\n",
    "TBLPROPERTIES (delta.enableChangeDataFeed = true)\n",
    "SELECT * EXCEPT (_rescued_data)\n",
    "FROM read_files(\n",
    "  \"/Volumes/\" || :TARGET_CATALOG || \"/\" || :TARGET_SCHEMA || \"/data/supplier_sops.csv\",\n",
    "  FORMAT => \"csv\",\n",
    "  HEADER => true,\n",
    "  MULTILINE => true,\n",
    "  ESCAPE => '\"'\n",
    ");"
   ]
  },
  {
   "cell_type": "code",
   "execution_count": 0,
   "metadata": {
    "application/vnd.databricks.v1+cell": {
     "cellMetadata": {
      "byteLimit": 2048000,
      "rowLimit": 10000
     },
     "inputWidgets": {},
     "nuid": "34e97ace-abb8-4850-9890-cb18a436700a",
     "showTitle": false,
     "tableResultSettingsMap": {},
     "title": ""
    }
   },
   "outputs": [],
   "source": [
    "from databricks.vector_search.client import VectorSearchClient\n",
    "\n",
    "client = VectorSearchClient()\n",
    "\n",
    "if TARGET_CATALOG not in [v[\"name\"] for v in client.list_endpoints().get(\"endpoints\", [])]:\n",
    "    print(f\"Creating endpoint {TARGET_CATALOG}\")\n",
    "    client.create_endpoint(name=TARGET_CATALOG, endpoint_type=\"STANDARD\")\n",
    "\n",
    "client.wait_for_endpoint(TARGET_CATALOG)\n",
    "print(f\"Created endpoint {TARGET_CATALOG}\")"
   ]
  }
 ],
 "metadata": {
  "application/vnd.databricks.v1+notebook": {
   "computePreferences": {
    "hardware": {
     "accelerator": null,
     "gpuPoolId": null,
     "memory": null
    }
   },
   "dashboards": [],
   "environmentMetadata": {
    "base_environment": "dbe_c75093c8-0895-475e-8c1b-6acacfe3368b",
    "environment_version": "2"
   },
   "inputWidgetPreferences": null,
   "language": "python",
   "notebookMetadata": {
    "mostRecentlyExecutedCommandWithImplicitDF": {
     "commandId": 7184671717163805,
     "dataframes": [
      "_sqldf"
     ]
    },
    "pythonIndentUnit": 4,
    "widgetLayout": []
   },
   "notebookName": "00_setup_data",
   "widgets": {
    "TARGET_CATALOG": {
     "currentValue": "workshop",
     "nuid": "34fd6626-7049-451a-88e4-63d0cbb265b0",
     "typedWidgetInfo": {
      "autoCreated": false,
      "defaultValue": "workshop",
      "label": null,
      "name": "TARGET_CATALOG",
      "options": {
       "widgetDisplayType": "Text",
       "validationRegex": null
      },
      "parameterDataType": "String"
     },
     "widgetInfo": {
      "widgetType": "text",
      "defaultValue": "workshop",
      "label": null,
      "name": "TARGET_CATALOG",
      "options": {
       "widgetType": "text",
       "autoCreated": false,
       "validationRegex": null
      }
     }
    },
    "TARGET_SCHEMA": {
     "currentValue": "supply_chain",
     "nuid": "8c95bb8e-8a4f-46d4-ac9e-7ff0dcfe417b",
     "typedWidgetInfo": {
      "autoCreated": false,
      "defaultValue": "supply_chain",
      "label": null,
      "name": "TARGET_SCHEMA",
      "options": {
       "widgetDisplayType": "Text",
       "validationRegex": null
      },
      "parameterDataType": "String"
     },
     "widgetInfo": {
      "widgetType": "text",
      "defaultValue": "supply_chain",
      "label": null,
      "name": "TARGET_SCHEMA",
      "options": {
       "widgetType": "text",
       "autoCreated": false,
       "validationRegex": null
      }
     }
    },
    "VS_INDEX": {
     "currentValue": "supplier_sops_vs_index",
     "nuid": "c8c2a2a9-5636-421f-b51d-2dcb45eb230b",
     "typedWidgetInfo": {
      "autoCreated": false,
      "defaultValue": "supplier_sops_vs_index",
      "label": null,
      "name": "VS_INDEX",
      "options": {
       "widgetDisplayType": "Text",
       "validationRegex": null
      },
      "parameterDataType": "String"
     },
     "widgetInfo": {
      "widgetType": "text",
      "defaultValue": "supplier_sops_vs_index",
      "label": null,
      "name": "VS_INDEX",
      "options": {
       "widgetType": "text",
       "autoCreated": false,
       "validationRegex": null
      }
     }
    },
    "VS_INDEX_BASE_TABLE": {
     "currentValue": "supplier_sops",
     "nuid": "39651410-aa3a-4ae0-a2b4-7229f23e3648",
     "typedWidgetInfo": {
      "autoCreated": false,
      "defaultValue": "supplier_sops",
      "label": null,
      "name": "VS_INDEX_BASE_TABLE",
      "options": {
       "widgetDisplayType": "Text",
       "validationRegex": null
      },
      "parameterDataType": "String"
     },
     "widgetInfo": {
      "widgetType": "text",
      "defaultValue": "supplier_sops",
      "label": null,
      "name": "VS_INDEX_BASE_TABLE",
      "options": {
       "widgetType": "text",
       "autoCreated": false,
       "validationRegex": null
      }
     }
    }
   }
  },
  "language_info": {
   "name": "python"
  }
 },
 "nbformat": 4,
 "nbformat_minor": 0
}
